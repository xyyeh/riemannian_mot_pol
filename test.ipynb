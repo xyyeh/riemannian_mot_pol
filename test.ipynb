{
 "cells": [
  {
   "cell_type": "code",
   "execution_count": null,
   "metadata": {
    "tags": []
   },
   "outputs": [
    {
     "name": "stdout",
     "output_type": "stream",
     "text": [
      "`- root\n",
      "   |- proj_q_lbr_iiwa_link_1\n",
      "   |  `- lbr_iiwa_link_1\n",
      "   |- proj_q_lbr_iiwa_link_2\n",
      "   |  `- lbr_iiwa_link_2\n",
      "   |- proj_q_lbr_iiwa_link_3\n",
      "   |  `- lbr_iiwa_link_3\n",
      "   |- proj_q_lbr_iiwa_link_4\n",
      "   |  `- lbr_iiwa_link_4\n",
      "   |- proj_q_lbr_iiwa_link_5\n",
      "   |  `- lbr_iiwa_link_5\n",
      "   |- proj_q_lbr_iiwa_link_6\n",
      "   |  `- lbr_iiwa_link_6\n",
      "   `- proj_q_lbr_iiwa_link_7\n",
      "      `- lbr_iiwa_link_7\n",
      "         `- proj_xp_lbr_iiwa_link_7\n",
      "            `- pos_attractor\n"
     ]
    }
   ],
   "source": [
    "import pybullet as b\n",
    "import time\n",
    "import pybullet_data\n",
    "\n",
    "import numpy as np\n",
    "from rmpflow.rmp.rbd_rmp import rmp_tree_from_urdf, rmp_tree_print, node_array, ProjectionNode, PositionProjection, FrameProjection\n",
    "import rmpflow.rmp.rmp_leaf as leaves\n",
    "\n",
    "# constants\n",
    "DT = 0.001 #s\n",
    "urdf_file = \"./assets/kuka_iiwa.urdf\"\n",
    "\n",
    "# import rmp tree\n",
    "root, links, robot = rmp_tree_from_urdf(urdf_file)\n",
    "\n",
    "# attach frame projector and position attractor\n",
    "proj_node = PositionProjection(\"proj_xp_lbr_iiwa_link_7\", links[\"lbr_iiwa_link_7\"])\n",
    "target_pos = np.array([0.5,0.5,0.5])\n",
    "atrc = leaves.PosAttractorUni(\"pos_attractor\", proj_node, target_pos.transpose(), gain=1600, eta=80)\n",
    "\n",
    "# attach frame projector and orientation projector\n",
    "# proj_node = RotationProjection(\"proj_xq_lbr_iiwa_link_7\", links[\"lbr_iiwa_link_7\"])\n",
    "# target_pos = np.array([0.5,0.5,0.5])\n",
    "# atrc = leaves.GoalAttractorUni(\"pos_attractor\", proj_node, target_pos.transpose(), gain=1600, eta=80)\n",
    "\n",
    "# tree printing\n",
    "rmp_tree_print(root)\n",
    "\n",
    "# setup physics\n",
    "physicsClient = b.connect(b.GUI)\n",
    "b.setAdditionalSearchPath(pybullet_data.getDataPath())\n",
    "b.setGravity(0,0,-9.81)\n",
    "b.setRealTimeSimulation(0)\n",
    "b.setTimeStep(DT)\n",
    "\n",
    "# import robot\n",
    "plane_id = b.loadURDF(\"plane.urdf\")\n",
    "start_pos = [0,0,0]\n",
    "start_ori = b.getQuaternionFromEuler([0,0,0])\n",
    "robot_id = b.loadURDF(urdf_file,start_pos, start_ori, flags=(b.URDF_USE_INERTIA_FROM_FILE | b.URDF_USE_SELF_COLLISION_EXCLUDE_ALL_PARENTS))\n",
    "n_dof = b.getNumJoints(robot_id)\n",
    "joints_id = range(n_dof) \n",
    "\n",
    "# setup configuration\n",
    "b.setJointMotorControlArray(robot_id, joints_id, b.VELOCITY_CONTROL, forces=[0] * n_dof)\n",
    "\n",
    "# simulate\n",
    "for i in range(0, 10000):\n",
    "    # read state feedback\n",
    "    joint_states = b.getJointStates(robot_id, joints_id)\n",
    "    q = np.array([joint_states[i][0] for i in joints_id])\n",
    "    dq = np.array([joint_states[i][1] for i in joints_id])\n",
    "    ddq, mass_matrix, h = root.solve(q,dq)\n",
    "\n",
    "    # compute torque and dynamics\n",
    "    tau = (mass_matrix.dot(ddq) + h).flatten()\n",
    "\n",
    "    # command system:\n",
    "    for i in joints_id:\n",
    "        b.setJointMotorControl2(robot_id, i, b.TORQUE_CONTROL, force=tau[i])\n",
    "\n",
    "    # sleep\n",
    "    b.stepSimulation()\n",
    "    time.sleep(DT)\n",
    "\n",
    "# disconnect\n",
    "b.disconnect()"
   ]
  },
  {
   "cell_type": "markdown",
   "metadata": {},
   "source": [
    "### Rotation and quaternion feedback computations"
   ]
  },
  {
   "cell_type": "code",
   "execution_count": 1,
   "metadata": {},
   "outputs": [
    {
     "name": "stdout",
     "output_type": "stream",
     "text": [
      "From Rc^T Rd, phi = [-1.47308202e-17 -3.82683432e-01 -4.70600817e-17]\n",
      "From quaternion feedback, phi = [ 0.         -0.38268343  0.        ]\n"
     ]
    }
   ],
   "source": [
    "import numpy as np\n",
    "from scipy.spatial.transform import Rotation as R\n",
    "\n",
    "r_curr = R.from_quat([0, 0, np.sin(np.pi/4), np.cos(np.pi/4)]) # x, y, z, w\n",
    "r_des = R.from_quat([0, np.sin(np.pi/16), 0, np.cos(np.pi/16)])*r_curr # apply additional rotation along inertial y axis\n",
    "\n",
    "# rotation error using Rcurr cross Rdes (curr - des)\n",
    "r_curr_mat = r_curr.as_matrix()\n",
    "r_des_mat = r_des.as_matrix()\n",
    "c1 = r_curr_mat[:,0]\n",
    "c2 = r_curr_mat[:,1]\n",
    "c3 = r_curr_mat[:,2]\n",
    "d1 = r_des_mat[:,0]\n",
    "d2 = r_des_mat[:,1]\n",
    "d3 = r_des_mat[:,2]\n",
    "delta_phi = -1.0 / 2.0 * (np.cross(c1,d1) + np.cross(c2,d2) + np.cross(c3,d3))\n",
    "print(\"From Rc^T Rd, phi = {}\".format(delta_phi))\n",
    "\n",
    "# rotation error as quaternion, similar to dR = Rdes^T R\n",
    "# see \"10.1109/ICRA.2011.5980556\" and \"7-DOF Redundant Manipulator Control using Quaternion Feedbackbased on Virtual Spring-Damper Hypothesis\"\n",
    "r_des_curr = r_des * r_curr.inv()\n",
    "q_des_curr = r_des_curr.as_quat()\n",
    "delta_phi = -2 * q_des_curr[3] * q_des_curr[:-1]\n",
    "print(\"From quaternion feedback, phi = {}\".format(delta_phi))\n"
   ]
  },
  {
   "cell_type": "code",
   "execution_count": null,
   "metadata": {},
   "outputs": [],
   "source": []
  }
 ],
 "metadata": {
  "kernelspec": {
   "display_name": "Python 3.8.8 64-bit ('rmp': conda)",
   "language": "python",
   "name": "python388jvsc74a57bd08a2ab0c5a9cdf38dc3ea9c38e3ba651bc83d278febdd235afcb1dfcf85bbf45f"
  },
  "language_info": {
   "codemirror_mode": {
    "name": "ipython",
    "version": 3
   },
   "file_extension": ".py",
   "mimetype": "text/x-python",
   "name": "python",
   "nbconvert_exporter": "python",
   "pygments_lexer": "ipython3",
   "version": "3.8.8"
  },
  "metadata": {
   "interpreter": {
    "hash": "80bb2fdbca337dd8e8c0c358d1b05184bcd24e3001d60b3304aeb7d18c58cec1"
   }
  }
 },
 "nbformat": 4,
 "nbformat_minor": 4
}
