{
 "metadata": {
  "language_info": {
   "codemirror_mode": {
    "name": "ipython",
    "version": 3
   },
   "file_extension": ".py",
   "mimetype": "text/x-python",
   "name": "python",
   "nbconvert_exporter": "python",
   "pygments_lexer": "ipython3",
   "version": "3.8.8"
  },
  "orig_nbformat": 2,
  "kernelspec": {
   "name": "python388jvsc74a57bd080bb2fdbca337dd8e8c0c358d1b05184bcd24e3001d60b3304aeb7d18c58cec1",
   "display_name": "Python 3.8.8 64-bit ('pplanner': conda)"
  },
  "metadata": {
   "interpreter": {
    "hash": "80bb2fdbca337dd8e8c0c358d1b05184bcd24e3001d60b3304aeb7d18c58cec1"
   }
  }
 },
 "nbformat": 4,
 "nbformat_minor": 2,
 "cells": [
  {
   "cell_type": "code",
   "execution_count": 2,
   "metadata": {},
   "outputs": [
    {
     "output_type": "stream",
     "name": "stdout",
     "text": [
      "[[ 0.        ]\n [ 0.        ]\n [ 0.36      ]\n [-3.02213217]\n [-0.68644724]\n [-1.57079633]]\n[[ 0.00000000e+00  0.00000000e+00  0.00000000e+00  0.00000000e+00\n   0.00000000e+00  0.00000000e+00  0.00000000e+00]\n [ 0.00000000e+00  0.00000000e+00  0.00000000e+00  0.00000000e+00\n   0.00000000e+00  0.00000000e+00  0.00000000e+00]\n [ 0.00000000e+00  0.00000000e+00  0.00000000e+00  0.00000000e+00\n   0.00000000e+00  0.00000000e+00  0.00000000e+00]\n [ 0.00000000e+00 -6.33793122e-01  0.00000000e+00  0.00000000e+00\n   0.00000000e+00  0.00000000e+00  0.00000000e+00]\n [ 0.00000000e+00  7.73502604e-01  0.00000000e+00  0.00000000e+00\n   0.00000000e+00  0.00000000e+00  0.00000000e+00]\n [ 1.00000000e+00  4.89658886e-12  0.00000000e+00  0.00000000e+00\n   0.00000000e+00  0.00000000e+00  0.00000000e+00]]\n[[ 0.00000000e+00  0.00000000e+00  0.00000000e+00  0.00000000e+00\n   0.00000000e+00  0.00000000e+00  0.00000000e+00]\n [ 0.00000000e+00  0.00000000e+00  0.00000000e+00  0.00000000e+00\n   0.00000000e+00  0.00000000e+00  0.00000000e+00]\n [ 0.00000000e+00  0.00000000e+00  0.00000000e+00  0.00000000e+00\n   0.00000000e+00  0.00000000e+00  0.00000000e+00]\n [ 0.00000000e+00 -4.90792349e-01  0.00000000e+00  0.00000000e+00\n   0.00000000e+00  0.00000000e+00  0.00000000e+00]\n [ 2.77555756e-17 -4.02145789e-01  0.00000000e+00  0.00000000e+00\n   0.00000000e+00  0.00000000e+00  0.00000000e+00]\n [-2.41286942e-18  4.17322693e-17  0.00000000e+00  0.00000000e+00\n   0.00000000e+00  0.00000000e+00  0.00000000e+00]]\n"
     ]
    }
   ],
   "source": [
    "# test - tree construction\n",
    "import numpy as np\n",
    "from rmpflow.rmp.rbd_rmp import rmp_tree_from_urdf, PositionProjection\n",
    "\n",
    "urdf_file = \"./assets/kuka_iiwa.urdf\"\n",
    "root, links, robot = rmp_tree_from_urdf(urdf_file)\n",
    "\n",
    "# for key, value in links.items():\n",
    "#     print(key, \" : \", value.name, \"<-\", value.parent.name, value.parent.param_map, value.parent.mat, \"<-\", value.parent.parent.name)\n",
    "\n",
    "q = np.random.rand(7)\n",
    "dq = np.random.rand(7)\n",
    "print(\"{}\".format(links[\"lbr_iiwa_link_2\"].psi(q)))\n",
    "print(\"{}\".format(links[\"lbr_iiwa_link_2\"].J(q)))\n",
    "print(links[\"lbr_iiwa_link_2\"].J_dot(q, dq))"
   ]
  },
  {
   "cell_type": "code",
   "execution_count": 4,
   "metadata": {},
   "outputs": [
    {
     "output_type": "stream",
     "name": "stdout",
     "text": [
      "`- root\n   |- proj_lbr_iiwa_link_1\n   |  `- lbr_iiwa_link_1\n   |- proj_lbr_iiwa_link_2\n   |  `- lbr_iiwa_link_2\n   |- proj_lbr_iiwa_link_3\n   |  `- lbr_iiwa_link_3\n   |- proj_lbr_iiwa_link_4\n   |  `- lbr_iiwa_link_4\n   |- proj_lbr_iiwa_link_5\n   |  `- lbr_iiwa_link_5\n   |- proj_lbr_iiwa_link_6\n   |  `- lbr_iiwa_link_6\n   `- proj_lbr_iiwa_link_7\n      `- lbr_iiwa_link_7\n"
     ]
    }
   ],
   "source": [
    "import numpy as np\n",
    "from rmpflow.rmp.rbd_rmp import *\n",
    "\n",
    "urdf_file = \"./assets/kuka_iiwa.urdf\"\n",
    "root, links, robot = rmp_tree_from_urdf(urdf_file)\n",
    "\n",
    "rmp_tree_print(root)\n",
    "\n"
   ]
  },
  {
   "cell_type": "code",
   "execution_count": 4,
   "metadata": {},
   "outputs": [
    {
     "output_type": "stream",
     "name": "stdout",
     "text": [
      "Expected ax, ay, az = 1.5707963267948966, 1.0471975511965976, 0.7853981633974483\n[1.57079633 1.04719755 0.78539816]\n"
     ]
    }
   ],
   "source": [
    "import numpy as np\n",
    "from rmpflow.rmp.rbd_rmp import *\n",
    "import eigen as e\n",
    "import rbdyn as rbd\n",
    "import sva as s\n",
    "from rbdyn.parsers import *\n",
    "\n",
    "from scipy.spatial.transform import Rotation as R\n",
    "\n",
    "ax, ay, az = math.pi/2, math.pi/3, math.pi/4\n",
    "\n",
    "# euler zyx\n",
    "rot_sv = s.RotZ(ax)*s.RotY(ay)*s.RotX(az)\n",
    "rot = rot_sv.transpose()\n",
    "r = R.from_matrix(np.array(rot))\n",
    "print(\"Expected ax, ay, az = {}, {}, {}\".format(ax,ay,az))\n",
    "print(r.as_euler('zyx', degrees=False))\n",
    "\n",
    "\n",
    "\n"
   ]
  },
  {
   "cell_type": "code",
   "execution_count": 1,
   "metadata": {},
   "outputs": [
    {
     "output_type": "stream",
     "name": "stdout",
     "text": [
      "lbr_iiwa_link_1  :  lbr_iiwa_link_1 ,  proj_lbr_iiwa_link_1 ,  [1 0 0 0 0 0 0]\nlbr_iiwa_link_2  :  lbr_iiwa_link_2 ,  proj_lbr_iiwa_link_2 ,  [1 1 0 0 0 0 0]\nlbr_iiwa_link_3  :  lbr_iiwa_link_3 ,  proj_lbr_iiwa_link_3 ,  [1 1 1 0 0 0 0]\nlbr_iiwa_link_4  :  lbr_iiwa_link_4 ,  proj_lbr_iiwa_link_4 ,  [1 1 1 1 0 0 0]\nlbr_iiwa_link_5  :  lbr_iiwa_link_5 ,  proj_lbr_iiwa_link_5 ,  [1 1 1 1 1 0 0]\nlbr_iiwa_link_6  :  lbr_iiwa_link_6 ,  proj_lbr_iiwa_link_6 ,  [1 1 1 1 1 1 0]\nlbr_iiwa_link_7  :  lbr_iiwa_link_7 ,  proj_lbr_iiwa_link_7 ,  [1 1 1 1 1 1 1]\n"
     ]
    }
   ],
   "source": [
    "import numpy as np\n",
    "from rmpflow.rmp.rbd_rmp import rmp_tree_from_urdf, PositionProjection\n",
    "\n",
    "root, links = rmp_tree_from_urdf(\"./assets/kuka_iiwa.urdf\")\n",
    "\n",
    "# link5_pos = PositionProjection(\"link5_pos\", links[''])\n",
    "for key, value in links.items():\n",
    "    print(key, \" : \", value.name, \", \", value.parent.name, \", \", value.parent.param_map)\n"
   ]
  },
  {
   "cell_type": "code",
   "execution_count": 1,
   "metadata": {},
   "outputs": [
    {
     "output_type": "stream",
     "name": "stdout",
     "text": [
      "`- root\n   |- proj_lbr_iiwa_link_1\n   |  `- lbr_iiwa_link_1\n   |- proj_lbr_iiwa_link_2\n   |  `- lbr_iiwa_link_2\n   |- proj_lbr_iiwa_link_3\n   |  `- lbr_iiwa_link_3\n   |- proj_lbr_iiwa_link_4\n   |  `- lbr_iiwa_link_4\n   |- proj_lbr_iiwa_link_5\n   |  `- lbr_iiwa_link_5\n   |- proj_lbr_iiwa_link_6\n   |  `- lbr_iiwa_link_6\n   `- proj_lbr_iiwa_link_7\n      `- lbr_iiwa_link_7\nroot: pushforward\nproj_lbr_iiwa_link_1: pushforward\nproj_lbr_iiwa_link_1: x = [1.], dx = [-1.]\nproj_lbr_iiwa_link_2: pushforward\nproj_lbr_iiwa_link_2: x = [1. 2.], dx = [-1. -2.]\nproj_lbr_iiwa_link_3: pushforward\nproj_lbr_iiwa_link_3: x = [1. 2. 3.], dx = [-1. -2. -3.]\nproj_lbr_iiwa_link_4: pushforward\nproj_lbr_iiwa_link_4: x = [1. 2. 3. 4.], dx = [-1. -2. -3. -4.]\nproj_lbr_iiwa_link_5: pushforward\nproj_lbr_iiwa_link_5: x = [1. 2. 3. 4. 5.], dx = [-1. -2. -3. -4. -5.]\nproj_lbr_iiwa_link_6: pushforward\nproj_lbr_iiwa_link_6: x = [1. 2. 3. 4. 5. 6.], dx = [-1. -2. -3. -4. -5. -6.]\nproj_lbr_iiwa_link_7: pushforward\nproj_lbr_iiwa_link_7: x = [1. 2. 3. 4. 5. 6. 7.], dx = [-1. -2. -3. -4. -5. -6. -7.]\nname = proj_lbr_iiwa_link_1, type = <class 'rmpflow.rmp.rbd_rmp.ProjectionNode'>\nproj_lbr_iiwa_link_1: pushforward\nproj_lbr_iiwa_link_1: x = [1.], dx = [-1.]\n"
     ]
    }
   ],
   "source": [
    "import numpy as np\n",
    "from rmpflow.rmp.rbd_rmp import rmp_tree_from_urdf, rmp_tree_print, node_array, ProjectionNode, PositionProjection, FrameProjection\n",
    "import rmpflow.rmp.rmp_leaf as leaves\n",
    "\n",
    "urdf_file = \"./assets/kuka_iiwa.urdf\"\n",
    "\n",
    "root, links, robot = rmp_tree_from_urdf(urdf_file)\n",
    "\n",
    "# link7_exts = node_array(\"lbr_iiwa_link_7_ext\", link7_proj, robot)\n",
    "\n",
    "# link7_exts_pos = [PositionProjection(link7_ext.name + \"_pos\", link7_ext) for link7_ext in link7_exts]\n",
    "\n",
    "# # attach attractor\n",
    "# target_pos = np.array([1,1,1])\n",
    "# atrc = leaves.GoalAttractorUni(\"attractor\", links[\"lbr_iiwa_link_7\"], target_pos.transpose(), gain=10)\n",
    "\n",
    "# # attach obstacle avoidance RMP to each control point of the arm\n",
    "# for i in range(len(link7_exts_pos)):\n",
    "#     leaves.CollisionAvoidance(link7_exts_pos[i].name + \"_avoider\" + str(i), link7_exts_pos, None)\n",
    "\n",
    "# tree printing\n",
    "rmp_tree_print(root)\n",
    "\n",
    "# simulate\n",
    "# for i in range(0, 1000):\n",
    "#     q = np.random.rand(7).reshape(-1,1)\n",
    "#     dq = np.random.rand(7).reshape(-1,1)\n",
    "    \n",
    "#     qdd = root.solve(q, dq)\n",
    "\n",
    "q = np.array([1,2,3,4,5,6,7])\n",
    "dq = np.array([-1,-2,-3,-4,-5,-6,-7])\n",
    "\n",
    "# print(\"q = {}, dq = {}\".format(q,dq))\n",
    "\n",
    "root.set_root_state(q,dq)\n",
    "root.pushforward()\n",
    "\n",
    "print(\"name = {}, type = {}\".format(root.children[0].name, type(root.children[0])))\n",
    "root.children[0].pushforward()\n",
    "\n",
    "# links[\"lbr_iiwa_link_1\"].pushforward()\n",
    "links[\"lbr_iiwa_link_1\"].pushforward()\n"
   ]
  },
  {
   "cell_type": "code",
   "execution_count": 4,
   "metadata": {},
   "outputs": [
    {
     "output_type": "stream",
     "name": "stdout",
     "text": [
      "[[], [-1], [-2], [-3], [-4], [-5], [-6], [-7]]\n<class 'list'>\n"
     ]
    }
   ],
   "source": [
    "import numpy as np\n",
    "\n",
    "a = [\n",
    "            [],\n",
    "            [dq[0]],\n",
    "            [dq[1]],\n",
    "            [dq[2]],\n",
    "            [dq[3]],\n",
    "            [dq[4]],\n",
    "            [dq[5]],\n",
    "            [dq[6]],\n",
    "        ]\n",
    "    \n",
    "print(a)\n",
    "print(type(a))"
   ]
  },
  {
   "cell_type": "code",
   "execution_count": null,
   "metadata": {},
   "outputs": [],
   "source": []
  }
 ]
}