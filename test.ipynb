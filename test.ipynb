{
 "metadata": {
  "language_info": {
   "codemirror_mode": {
    "name": "ipython",
    "version": 3
   },
   "file_extension": ".py",
   "mimetype": "text/x-python",
   "name": "python",
   "nbconvert_exporter": "python",
   "pygments_lexer": "ipython3",
   "version": "3.8.8"
  },
  "orig_nbformat": 2,
  "kernelspec": {
   "name": "python388jvsc74a57bd080bb2fdbca337dd8e8c0c358d1b05184bcd24e3001d60b3304aeb7d18c58cec1",
   "display_name": "Python 3.8.8 64-bit ('pplanner': conda)"
  },
  "metadata": {
   "interpreter": {
    "hash": "80bb2fdbca337dd8e8c0c358d1b05184bcd24e3001d60b3304aeb7d18c58cec1"
   }
  }
 },
 "nbformat": 4,
 "nbformat_minor": 2,
 "cells": [
  {
   "cell_type": "code",
   "execution_count": 4,
   "metadata": {},
   "outputs": [
    {
     "output_type": "stream",
     "name": "stdout",
     "text": [
      "[<rmpflow.rmp.rbd_rmp.ProjectionNode object at 0x7f0f1971f430>, <rmpflow.rmp.rbd_rmp.ProjectionNode object at 0x7f0f1971f460>, <rmpflow.rmp.rbd_rmp.ProjectionNode object at 0x7f0f1971f940>, <rmpflow.rmp.rbd_rmp.ProjectionNode object at 0x7f0f1971fb20>, <rmpflow.rmp.rbd_rmp.ProjectionNode object at 0x7f0f190f00d0>, <rmpflow.rmp.rbd_rmp.ProjectionNode object at 0x7f0f1932c4f0>, <rmpflow.rmp.rbd_rmp.ProjectionNode object at 0x7f0f1932c9d0>]\n"
     ]
    }
   ],
   "source": [
    "# test - tree construction\n",
    "import numpy as np\n",
    "from rmpflow.rmp.rbd_rmp import rmp_tree_from_urdf, PositionProjection\n",
    "\n",
    "root, leaves = rmp_tree_from_urdf(\"./assets/kuka_iiwa.urdf\")\n",
    "\n",
    "val_input = np.arange(1, 14).reshape(-1,1)\n",
    "\n",
    "# for proj in root.children:\n",
    "#     print(type(proj))# + \" psi res: \" + str(proj.psi(val_input).T)) \n",
    "\n",
    "print(root.children)"
   ]
  },
  {
   "cell_type": "code",
   "execution_count": 1,
   "metadata": {},
   "outputs": [
    {
     "output_type": "stream",
     "name": "stdout",
     "text": [
      "T = [[ 4.21576963e-01]\n [ 1.83737623e-12]\n [ 1.03069146e+00]\n [ 8.59845528e-12]\n [ 1.00000000e+00]\n [-4.81037432e-12]]\nJ = [[-1.83737623e-12  6.70691455e-01  9.26459207e-14 -4.43764487e-01\n  -3.75574471e-13  4.37644868e-02  0.00000000e+00]\n [ 4.21576963e-01  2.20300355e-12 -3.36588394e-01 -3.72179804e-12\n   6.81591498e-02  3.51850348e-13  0.00000000e+00]\n [ 0.00000000e+00 -4.21576963e-01  1.36638946e-12  6.81591498e-02\n  -3.60648908e-13 -6.81591498e-02  0.00000000e+00]\n [ 0.00000000e+00 -2.06823107e-13  8.41470985e-01  8.44749801e-12\n   2.06890061e-13 -8.65432111e-12  8.41470985e-01]\n [ 0.00000000e+00  1.00000000e+00  2.42498625e-12 -1.00000000e+00\n   5.29127650e-12  1.00000000e+00  2.59902190e-12]\n [ 1.00000000e+00  4.89658886e-12  5.40302306e-01  3.94687644e-13\n   1.00000000e+00 -3.94687644e-13  5.40302306e-01]]\ndJ = [[ 1.53147719e-01 -4.21576963e-01 -4.81621333e-01  6.81591498e-02\n   1.73144845e-01 -6.81591498e-02  1.76281853e-55]\n [ 2.70691455e-01 -6.70691455e-01 -2.16120922e-01  7.40885409e-01\n   4.37644868e-02 -1.68528974e-01  1.48472033e-66]\n [ 2.22044605e-16 -2.70691455e-01  2.25875420e-01  4.37644868e-02\n  -5.73539469e-02 -4.37644868e-02 -2.74542719e-55]\n [ 0.00000000e+00  1.00000000e+00  5.40302306e-01 -1.54030231e+00\n   5.72497605e-12  2.54030231e+00  5.40302306e-01]\n [ 2.22044605e-16  2.06823107e-13 -8.41470985e-01 -1.26795825e-11\n   8.41470985e-01  2.16524737e-11 -1.68294197e+00]\n [ 0.00000000e+00 -2.22044605e-16 -8.41470985e-01  8.41470985e-01\n  -4.45247288e-12 -8.41470985e-01 -8.41470985e-01]]\n"
     ]
    }
   ],
   "source": [
    "import numpy as np\n",
    "from rmpflow.rmp.rbd_rmp import *\n",
    "\n",
    "robot = from_urdf_file(\"./assets/kuka_iiwa.urdf\")\n",
    "\n",
    "link_names = [\n",
    "        robot.mb.bodies()[i].name().decode(\"utf-8\")\n",
    "        for i in range(1, len(robot.mb.bodies()))\n",
    "    ]\n",
    "\n",
    "base_name = \"root\"\n",
    "seg_name = link_names[-1]\n",
    "\n",
    "root = RMPRoot(base_name)\n",
    "leaf = RBDRMPNode(\"leaf\", root, robot, base_name, seg_name)\n",
    "\n",
    "q = np.array([0,1,0,1,0,1,0])\n",
    "dq = np.array([-1,1,-1,1,-1,1,-1])\n",
    "\n",
    "print(\"T = {}\".format(leaf.psi(q)))\n",
    "\n",
    "print(\"J = {}\".format(leaf.J(q)))\n",
    "\n",
    "print(\"dJ = {}\".format(leaf.J_dot(q, dq)))\n",
    "\n",
    "\n"
   ]
  },
  {
   "cell_type": "code",
   "execution_count": 4,
   "metadata": {},
   "outputs": [
    {
     "output_type": "stream",
     "name": "stdout",
     "text": [
      "Expected ax, ay, az = 1.5707963267948966, 1.0471975511965976, 0.7853981633974483\n[1.57079633 1.04719755 0.78539816]\n"
     ]
    }
   ],
   "source": [
    "import numpy as np\n",
    "from rmpflow.rmp.rbd_rmp import *\n",
    "import eigen as e\n",
    "import rbdyn as rbd\n",
    "import sva as s\n",
    "from rbdyn.parsers import *\n",
    "\n",
    "from scipy.spatial.transform import Rotation as R\n",
    "\n",
    "ax, ay, az = math.pi/2, math.pi/3, math.pi/4\n",
    "\n",
    "# euler zyx\n",
    "rot_sv = s.RotZ(ax)*s.RotY(ay)*s.RotX(az)\n",
    "rot = rot_sv.transpose()\n",
    "r = R.from_matrix(np.array(rot))\n",
    "print(\"Expected ax, ay, az = {}, {}, {}\".format(ax,ay,az))\n",
    "print(r.as_euler('zyx', degrees=False))\n",
    "\n",
    "\n",
    "\n"
   ]
  },
  {
   "cell_type": "code",
   "execution_count": null,
   "metadata": {},
   "outputs": [],
   "source": []
  }
 ]
}