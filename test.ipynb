{
 "metadata": {
  "language_info": {
   "codemirror_mode": {
    "name": "ipython",
    "version": 3
   },
   "file_extension": ".py",
   "mimetype": "text/x-python",
   "name": "python",
   "nbconvert_exporter": "python",
   "pygments_lexer": "ipython3",
   "version": "3.8.8"
  },
  "orig_nbformat": 2,
  "kernelspec": {
   "name": "python388jvsc74a57bd080bb2fdbca337dd8e8c0c358d1b05184bcd24e3001d60b3304aeb7d18c58cec1",
   "display_name": "Python 3.8.8 64-bit ('pplanner': conda)"
  },
  "metadata": {
   "interpreter": {
    "hash": "80bb2fdbca337dd8e8c0c358d1b05184bcd24e3001d60b3304aeb7d18c58cec1"
   }
  }
 },
 "nbformat": 4,
 "nbformat_minor": 2,
 "cells": [
  {
   "cell_type": "code",
   "execution_count": 3,
   "metadata": {},
   "outputs": [
    {
     "output_type": "stream",
     "name": "stdout",
     "text": [
      "<rmpflow.rmp.rmp.RMPRoot object at 0x7fbd56b32b50>\n"
     ]
    }
   ],
   "source": [
    "import copy\n",
    "from scipy.spatial.transform import Rotation as R\n",
    "import numpy as np\n",
    "\n",
    "from rmpflow.rmp.rbd_rmp import rmp_tree_from_urdf, PositionProjection\n",
    "\n",
    "root, leaf_dict = rmp_tree_from_urdf(\"./assets/kuka_iiwa.urdf\")\n",
    "\n",
    "print(root)\n",
    "\n",
    "leaf_dict\n"
   ]
  },
  {
   "cell_type": "code",
   "execution_count": null,
   "metadata": {},
   "outputs": [],
   "source": []
  }
 ]
}