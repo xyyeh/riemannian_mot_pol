{
 "metadata": {
  "language_info": {
   "codemirror_mode": {
    "name": "ipython",
    "version": 3
   },
   "file_extension": ".py",
   "mimetype": "text/x-python",
   "name": "python",
   "nbconvert_exporter": "python",
   "pygments_lexer": "ipython3",
   "version": "3.8.8"
  },
  "orig_nbformat": 2,
  "kernelspec": {
   "name": "python388jvsc74a57bd080bb2fdbca337dd8e8c0c358d1b05184bcd24e3001d60b3304aeb7d18c58cec1",
   "display_name": "Python 3.8.8 64-bit ('pplanner': conda)"
  },
  "metadata": {
   "interpreter": {
    "hash": "80bb2fdbca337dd8e8c0c358d1b05184bcd24e3001d60b3304aeb7d18c58cec1"
   }
  }
 },
 "nbformat": 4,
 "nbformat_minor": 2,
 "cells": [
  {
   "cell_type": "code",
   "execution_count": 1,
   "metadata": {},
   "outputs": [
    {
     "output_type": "stream",
     "name": "stdout",
     "text": [
      "`- root\n   |- proj_q_lbr_iiwa_link_1\n   |  `- lbr_iiwa_link_1\n   |- proj_q_lbr_iiwa_link_2\n   |  `- lbr_iiwa_link_2\n   |- proj_q_lbr_iiwa_link_3\n   |  `- lbr_iiwa_link_3\n   |- proj_q_lbr_iiwa_link_4\n   |  `- lbr_iiwa_link_4\n   |- proj_q_lbr_iiwa_link_5\n   |  `- lbr_iiwa_link_5\n   |- proj_q_lbr_iiwa_link_6\n   |  `- lbr_iiwa_link_6\n   `- proj_q_lbr_iiwa_link_7\n      `- lbr_iiwa_link_7\nroot: pushforward\nproj_q_lbr_iiwa_link_1: pushforward\nproj_q_lbr_iiwa_link_1: x = [1.], dx = [-1.]\nlbr_iiwa_link_1: pushforward\nlbr_iiwa_link_1: x = [0.     0.     0.1575 1.     0.     0.    ], dx = [ 0.  0.  0.  0.  0. -1.]\nproj_q_lbr_iiwa_link_2: pushforward\nproj_q_lbr_iiwa_link_2: x = [1. 2.], dx = [-1. -2.]\nlbr_iiwa_link_2: pushforward\nlbr_iiwa_link_2: x = [ 0.          0.          0.36       -1.14159265 -1.         -1.57079633], dx = [ 0.          0.          0.          1.68294197 -1.08060461 -1.        ]\nproj_q_lbr_iiwa_link_3: pushforward\nproj_q_lbr_iiwa_link_3: x = [1. 2. 3.], dx = [-1. -2. -3.]\nlbr_iiwa_link_3: pushforward\nlbr_iiwa_link_3: x = [ 0.10046993  0.15647264  0.27489797 -1.45128424  0.51357651 -2.0689272 ], dx = [ 0.24843429  0.04275185  0.37190265  0.20905548 -3.37604682  0.24844051]\nproj_q_lbr_iiwa_link_4: pushforward\nproj_q_lbr_iiwa_link_4: x = [1. 2. 3. 4.], dx = [-1. -2. -3. -4.]\nlbr_iiwa_link_4: pushforward\nlbr_iiwa_link_4: x = [ 0.20634411  0.32136191  0.18521833  2.63751044 -1.0447123  -1.82920348], dx = [ 0.51023179  0.0878033   0.76380984  3.66817589 -5.31796066  0.76172075]\nproj_q_lbr_iiwa_link_5: pushforward\nproj_q_lbr_iiwa_link_5: x = [1. 2. 3. 4. 5.], dx = [-1. -2. -3. -4. -5.]\nlbr_iiwa_link_5: pushforward\nlbr_iiwa_link_5: x = [ 0.16159533  0.28813938  0.36109914 -0.18276899 -0.24498403  0.18669259], dx = [-0.39978917 -0.59144453  0.40397151  4.88088003 -4.41762122 -4.00469694]\nproj_q_lbr_iiwa_link_6: pushforward\nproj_q_lbr_iiwa_link_6: x = [1. 2. 3. 4. 5. 6.], dx = [-1. -2. -3. -4. -5. -6.]\nlbr_iiwa_link_6: pushforward\nlbr_iiwa_link_6: x = [ 0.10932778  0.24933475  0.56653174 -0.0342198  -0.17725292  1.80228815], dx = [-1.46271337 -1.38482073 -0.01632747  5.93883728  1.33082844 -2.64968664]\nproj_q_lbr_iiwa_link_7: pushforward\nproj_q_lbr_iiwa_link_7: x = [1. 2. 3. 4. 5. 6. 7.], dx = [-1. -2. -3. -4. -5. -6. -7.]\nlbr_iiwa_link_7: pushforward\nlbr_iiwa_link_7: x = [ 0.11205562  0.23028621  0.64521282 -2.60213255  0.03368343  0.23752795], dx = [-1.40847504 -1.85932276 -0.13308397  5.70309787  2.9769991  -9.44928582]\n"
     ]
    }
   ],
   "source": [
    "# test - tree construction\n",
    "import numpy as np\n",
    "from rmpflow.rmp.rbd_rmp import rmp_tree_from_urdf, rmp_tree_print\n",
    "\n",
    "urdf_file = \"./assets/kuka_iiwa.urdf\"\n",
    "root, links, robot = rmp_tree_from_urdf(urdf_file)\n",
    "\n",
    "rmp_tree_print(root)\n",
    "\n",
    "q = np.array([1,2,3,4,5,6,7])\n",
    "dq = np.array([-1,-2,-3,-4,-5,-6,-7])\n",
    "\n",
    "root.set_root_state(q,dq)\n",
    "root.pushforward()\n"
   ]
  },
  {
   "cell_type": "code",
   "execution_count": 4,
   "metadata": {},
   "outputs": [
    {
     "output_type": "stream",
     "name": "stdout",
     "text": [
      "Expected ax, ay, az = 1.5707963267948966, 1.0471975511965976, 0.7853981633974483\n[1.57079633 1.04719755 0.78539816]\n"
     ]
    }
   ],
   "source": [
    "import numpy as np\n",
    "from rmpflow.rmp.rbd_rmp import *\n",
    "import eigen as e\n",
    "import rbdyn as rbd\n",
    "import sva as s\n",
    "from rbdyn.parsers import *\n",
    "\n",
    "from scipy.spatial.transform import Rotation as R\n",
    "\n",
    "ax, ay, az = math.pi/2, math.pi/3, math.pi/4\n",
    "\n",
    "# euler zyx\n",
    "rot_sv = s.RotZ(ax)*s.RotY(ay)*s.RotX(az)\n",
    "rot = rot_sv.transpose()\n",
    "r = R.from_matrix(np.array(rot))\n",
    "print(\"Expected ax, ay, az = {}, {}, {}\".format(ax,ay,az))\n",
    "print(r.as_euler('zyx', degrees=False))\n"
   ]
  },
  {
   "cell_type": "code",
   "execution_count": 1,
   "metadata": {},
   "outputs": [
    {
     "output_type": "stream",
     "name": "stdout",
     "text": [
      "lbr_iiwa_link_1  :  lbr_iiwa_link_1 ,  proj_lbr_iiwa_link_1 ,  [1 0 0 0 0 0 0]\nlbr_iiwa_link_2  :  lbr_iiwa_link_2 ,  proj_lbr_iiwa_link_2 ,  [1 1 0 0 0 0 0]\nlbr_iiwa_link_3  :  lbr_iiwa_link_3 ,  proj_lbr_iiwa_link_3 ,  [1 1 1 0 0 0 0]\nlbr_iiwa_link_4  :  lbr_iiwa_link_4 ,  proj_lbr_iiwa_link_4 ,  [1 1 1 1 0 0 0]\nlbr_iiwa_link_5  :  lbr_iiwa_link_5 ,  proj_lbr_iiwa_link_5 ,  [1 1 1 1 1 0 0]\nlbr_iiwa_link_6  :  lbr_iiwa_link_6 ,  proj_lbr_iiwa_link_6 ,  [1 1 1 1 1 1 0]\nlbr_iiwa_link_7  :  lbr_iiwa_link_7 ,  proj_lbr_iiwa_link_7 ,  [1 1 1 1 1 1 1]\n"
     ]
    }
   ],
   "source": [
    "import numpy as np\n",
    "from rmpflow.rmp.rbd_rmp import rmp_tree_from_urdf, PositionProjection\n",
    "\n",
    "root, links = rmp_tree_from_urdf(\"./assets/kuka_iiwa.urdf\")\n",
    "\n",
    "# link5_pos = PositionProjection(\"link5_pos\", links[''])\n",
    "for key, value in links.items():\n",
    "    print(key, \" : \", value.name, \", \", value.parent.name, \", \", value.parent.param_map)\n"
   ]
  },
  {
   "cell_type": "code",
   "execution_count": 1,
   "metadata": {
    "tags": []
   },
   "outputs": [],
   "source": [
    "import pybullet as b\n",
    "import time\n",
    "import pybullet_data\n",
    "\n",
    "import numpy as np\n",
    "from rmpflow.rmp.rbd_rmp import rmp_tree_from_urdf, rmp_tree_print, node_array, ProjectionNode, PositionProjection, FrameProjection\n",
    "import rmpflow.rmp.rmp_leaf as leaves\n",
    "\n",
    "# constants\n",
    "DT = 0.001 #s\n",
    "urdf_file = \"./assets/kuka_iiwa.urdf\"\n",
    "\n",
    "# import rmp tree\n",
    "root, links, robot = rmp_tree_from_urdf(urdf_file)\n",
    "\n",
    "# attach frame projector and attractor\n",
    "proj_node = PositionProjection(\"proj_f_lbr_iiwa_link_7\", links[\"lbr_iiwa_link_7\"])\n",
    "target_pos = np.array([0.5,0.5,0.7])\n",
    "atrc = leaves.GoalAttractorUni(\"attractor\", proj_node, target_pos.transpose(), gain=0)\n",
    "\n",
    "# tree printing\n",
    "# rmp_tree_print(root)\n",
    "\n",
    "# setup physics\n",
    "physicsClient = b.connect(b.GUI)\n",
    "b.setAdditionalSearchPath(pybullet_data.getDataPath())\n",
    "b.setGravity(0,0,-9.81)\n",
    "b.setRealTimeSimulation(0)\n",
    "b.setTimeStep(DT)\n",
    "\n",
    "# import robot\n",
    "plane_id = b.loadURDF(\"plane.urdf\")\n",
    "start_pos = [0,0,0]\n",
    "start_ori = b.getQuaternionFromEuler([0,0,0])\n",
    "robot_id = b.loadURDF(urdf_file,start_pos, start_ori, flags=(b.URDF_USE_INERTIA_FROM_FILE | b.URDF_USE_SELF_COLLISION_EXCLUDE_ALL_PARENTS))\n",
    "n_dof = b.getNumJoints(robot_id)\n",
    "joints_id = range(n_dof) \n",
    "\n",
    "# setup configuration\n",
    "b.setJointMotorControlArray(robot_id, joints_id, b.VELOCITY_CONTROL, forces=[0] * n_dof)\n",
    "\n",
    "# simulate\n",
    "for i in range(0, 10000):\n",
    "    joint_states = b.getJointStates(robot_id, joints_id)\n",
    "    \n",
    "    # read state feedback\n",
    "    q = np.array([joint_states[i][0] for i in joints_id])\n",
    "    dq = np.array([joint_states[i][1] for i in joints_id])\n",
    "    ddq = root.solve(q,dq)\n",
    "\n",
    "    # compute torque and dynamics\n",
    "    M, _, h = links[\"lbr_iiwa_link_7\"].update_dynamics()\n",
    "    tau = (M.dot(ddq) + h).flatten()\n",
    "\n",
    "    # command system:\n",
    "    for i in joints_id:\n",
    "        b.setJointMotorControl2(robot_id, i, b.TORQUE_CONTROL, force=tau[i])\n",
    "\n",
    "    # sleep\n",
    "    b.stepSimulation()\n",
    "    time.sleep(DT)\n"
   ]
  },
  {
   "cell_type": "code",
   "execution_count": null,
   "metadata": {},
   "outputs": [],
   "source": []
  }
 ]
}