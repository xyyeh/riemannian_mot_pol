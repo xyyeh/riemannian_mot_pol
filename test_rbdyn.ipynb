{
 "cells": [
  {
   "cell_type": "code",
   "execution_count": 59,
   "id": "recreational-audio",
   "metadata": {},
   "outputs": [],
   "source": [
    "import eigen as e\n",
    "import rbdyn as rbd\n",
    "import sva as s\n",
    "from rbdyn.parsers import *\n",
    "\n",
    "import numpy as np\n",
    "\n",
    "urdf_file = \"./assets/kuka_iiwa.urdf\"\n",
    "\n",
    "robot = from_urdf_file(urdf_file)\n",
    "robot.mbc.gravity = e.Vector3d(0, 0, 9.81)\n",
    "robot.mbc.zero(robot.mb)\n",
    "\n",
    "# q = np.array([1,2,4,4,5,6,3])\n",
    "q = np.array([1,2,4,4,2,3,1])\n",
    "dq = -np.array([1,2,3,4,5,6,7])\n",
    "\n",
    "robot.mbc.q = [\n",
    "    [],\n",
    "    [q[0]],\n",
    "    [q[1]],\n",
    "    [q[2]],\n",
    "    [q[3]],\n",
    "    [q[4]],\n",
    "    [q[5]],\n",
    "    [q[6]],\n",
    "]\n",
    "robot.mbc.alpha = [\n",
    "    [],\n",
    "    [dq[0]],\n",
    "    [dq[1]],\n",
    "    [dq[2]],\n",
    "    [dq[3]],\n",
    "    [dq[4]],\n",
    "    [dq[5]],\n",
    "    [dq[6]],\n",
    "]\n",
    "\n",
    "sel_mat = e.MatrixXd.Zero(6, 6)\n",
    "sel_mat.coeff(0, 3, 1)\n",
    "sel_mat.coeff(1, 4, 1)\n",
    "sel_mat.coeff(2, 5, 1)\n",
    "sel_mat.coeff(3, 0, 1)\n",
    "sel_mat.coeff(4, 1, 1)\n",
    "sel_mat.coeff(5, 2, 1)\n",
    "        \n",
    "rbd.forwardKinematics(robot.mb, robot.mbc)\n",
    "rbd.forwardVelocity(robot.mb, robot.mbc)\n",
    "\n",
    "fd = rbd.ForwardDynamics(robot.mb)\n",
    "fd.computeH(robot.mb, robot.mbc)\n",
    "M = fd.H()\n",
    "Minv = M.inverse()\n",
    "fd.computeC(robot.mb, robot.mbc)\n",
    "h = fd.C()\n",
    "\n",
    "jac = rbd.Jacobian(robot.mb, robot.mb.bodies()[-1].name())\n",
    "swapped_jac = e.MatrixXd(6, robot.mb.nrDof())\n",
    "jac.fullJacobian(robot.mb, jac.jacobian(robot.mb, robot.mbc), swapped_jac)\n",
    "J = sel_mat * swapped_jac\n",
    "swapped_jac_dot = e.MatrixXd(6, robot.mb.nrDof()) \n",
    "jac.fullJacobian(robot.mb, jac.jacobianDot(robot.mb, robot.mbc), swapped_jac_dot)\n",
    "dJ = sel_mat * swapped_jac_dot\n",
    "\n",
    "Lambda_inv = J*Minv*J.transpose()\n",
    "# mat_np = np.array(Lambda_inv)\n",
    "# reg = 0 * np.identity(np.size(mat_np,0))\n",
    "Lambda = Lambda_inv.inverse()\n"
   ]
  },
  {
   "cell_type": "code",
   "execution_count": 61,
   "id": "russian-harvest",
   "metadata": {},
   "outputs": [
    {
     "name": "stdout",
     "output_type": "stream",
     "text": [
      "Lambda is \n",
      "  4.86688 -0.444278   1.86201  0.396878 -0.248812 -0.263834\n",
      "-0.444278   10.3131  -5.10794  0.876909 -0.533796 -0.571399\n",
      "  1.86201  -5.10794   8.63353 -0.195679  0.123588  0.130742\n",
      " 0.396878  0.876909 -0.195679   0.23421 -0.139543 -0.150212\n",
      "-0.248812 -0.533796  0.123588 -0.139543 0.0899938 0.0938575\n",
      "-0.263834 -0.571399  0.130742 -0.150212 0.0938575   0.10063\n",
      "M is \n",
      "     1.18382    0.0573391     -0.25467    0.0693474  1.50451e-05   0.00342671 -0.000798583\n",
      "   0.0573391      1.15989     0.157948    0.0693697 -0.000180274  -0.00183145  0.000454092\n",
      "    -0.25467     0.157948     0.309852  0.000620943 -0.000628145   0.00207587  0.000691547\n",
      "   0.0693474    0.0693697  0.000620943     0.513196   0.00388039   0.00125557  -0.00012832\n",
      " 1.50451e-05 -0.000180274 -0.000628145   0.00388039    0.0103803  4.27677e-07 -0.000989992\n",
      "  0.00342671  -0.00183145   0.00207587   0.00125557  4.27677e-07   0.00582065 -4.89659e-15\n",
      "-0.000798583  0.000454092  0.000691547  -0.00012832 -0.000989992 -4.89659e-15        0.001\n",
      "J^T is \n",
      "   -0.066815     0.315163            0            0            0            1\n",
      "   0.0615659    0.0958833    -0.226506    -0.841471     0.540302  4.89659e-12\n",
      "    0.114991    -0.187136     -0.20832     0.491295     0.765147    -0.416147\n",
      "    0.353655     0.184561    0.0294225    -0.379859     0.618179     0.688159\n",
      "-6.12697e-17  5.98742e-17  7.58777e-17     0.272047    -0.636367     0.721822\n",
      "           0            0            0     0.645866     0.676805      0.35326\n",
      "           0            0            0    -0.168658     0.577771    -0.798583\n",
      "dJ is \n",
      "    0.683765     0.614726     0.352523      0.29009  4.99805e-17  3.93689e-16  2.28046e-17\n",
      "    -1.81591     0.746483     0.718629    -0.936477 -1.22553e-16 -4.18499e-16 -1.82198e-16\n",
      "-2.22045e-16      1.32741      1.06879      2.38745 -5.12131e-16  8.20115e-17 -1.36635e-16\n",
      "           0     0.540302      1.21484     -2.47684     -5.81535       3.1954      10.1294\n",
      " 1.77636e-15     0.841471     0.209055    -0.238236     -1.92892     -4.07847     -1.41204\n",
      "  1.6829e-15  1.77636e-15      1.81859     -1.15319      0.49118      1.97172      -3.1609\n"
     ]
    }
   ],
   "source": [
    "print(\"Lambda is \\n{}\".format(Lambda))\n",
    "\n",
    "print(\"M is \\n{}\".format(M))\n",
    "\n",
    "print(\"J^T is \\n{}\".format(J.transpose()))\n",
    "\n",
    "print(\"dJ is \\n{}\".format(dJ))\n",
    "\n",
    "Jbar = Minv*J.transpose()*Lambda\n",
    "N1 = e.MatrixXd.Identity(7,7) - J.transpose() * Jbar.transpose()\n",
    "\n",
    "J2 = e.MatrixXd.Zero(1, 7)\n",
    "J2.coeff(0, 3, 1)\n",
    "J21 = J2*N1 \n",
    "Lambda21_inv = J21*Minv*J21.transpose()\n",
    "Lambda21 = Lambda21_inv.inverse()\n",
    "\n",
    "P = J.transpose()*Lambda*J\n",
    "Q = J.transpose()*Lambda*J + J21.transpose()*Lambda21*J21\n",
    "\n",
    "# print(J)\n",
    "# print(J21)\n",
    "\n",
    "# J_ = np.stack((np.array(J),np.array(J21)))\n",
    "\n",
    "# print(\"P is \\n{}\".format(P.inverse()))\n",
    "# print(\"Q is \\n{}\".format(Q.inverse()))"
   ]
  },
  {
   "cell_type": "code",
   "execution_count": 42,
   "id": "c92d81c2-107d-46f6-9f18-dd369eb05076",
   "metadata": {},
   "outputs": [
    {
     "name": "stdout",
     "output_type": "stream",
     "text": [
      " 0.636896  0.655267 0.0438742\n",
      "  0.72304  0.914985   0.45259\n",
      "0.0460359  0.532458  0.945114\n",
      " 0.866162  0.864354  0.473918\n",
      " 0.673476 0.0353093  0.496175\n",
      " 0.454896  0.368581  0.816526\n",
      " 0.636896  0.655267 0.0438742\n",
      "  0.72304  0.914985   0.45259\n",
      "0.0460359  0.532458  0.945114\n",
      " 0.866162  0.864354  0.473918\n",
      " 0.673476 0.0353093  0.496175\n",
      " 0.454896  0.368581  0.816526\n"
     ]
    }
   ],
   "source": [
    "import numpy as np\n",
    "import eigen as e\n",
    "\n",
    "a = np.random.rand(3,3)\n",
    "b = np.random.rand(3,3)\n",
    "c = np.vstack((a,b))\n",
    "\n",
    "print(e.MatrixXd(a))\n",
    "print(e.MatrixXd(b))\n",
    "print(e.MatrixXd(c))"
   ]
  },
  {
   "cell_type": "code",
   "execution_count": 24,
   "id": "acting-elevation",
   "metadata": {},
   "outputs": [
    {
     "data": {
      "application/vnd.jupyter.widget-view+json": {
       "model_id": "1cfcba3a1e4f47689b889e2d80a05595",
       "version_major": 2,
       "version_minor": 0
      },
      "text/plain": [
       "Canvas(toolbar=Toolbar(toolitems=[('Home', 'Reset original view', 'home', 'home'), ('Back', 'Back to previous …"
      ]
     },
     "metadata": {},
     "output_type": "display_data"
    }
   ],
   "source": [
    "%matplotlib widget\n",
    "import ipywidgets as widgets\n",
    "import os\n",
    "import matplotlib.pyplot as plt\n",
    "from pytransform3d.urdf import UrdfTransformManager\n",
    "import math\n",
    "\n",
    "plt.rcParams['figure.dpi'] = 150\n",
    "\n",
    "BASE_DIR = \"assets/\"\n",
    "data_dir = BASE_DIR\n",
    "search_path = \".\"\n",
    "while (not os.path.exists(data_dir) and\n",
    "       os.path.dirname(search_path) != \"riemannian_mot_pol\"):\n",
    "    search_path = os.path.join(search_path, \"..\")\n",
    "    data_dir = os.path.join(search_path, BASE_DIR)\n",
    "\n",
    "tm = UrdfTransformManager()\n",
    "with open(os.path.join(data_dir, \"kuka_iiwa.urdf\"), \"r\") as f:\n",
    "    tm.load_urdf(f.read(), mesh_path=data_dir)\n",
    "\n",
    "ax = tm.plot_frames_in(\n",
    "    \"lbr_iiwa_link_0\", s=0.2, whitelist=[\"lbr_iiwa_link_0\", \"lbr_iiwa_link_1\", \"lbr_iiwa_link_7\"],\n",
    "    show_name=True) # plot all frames in a given reference frame\n",
    "ax = tm.plot_connections_in(\"lbr_iiwa_link_0\", ax=ax) # plot connections between parent and child frames\n",
    "tm.plot_visuals(\"lbr_iiwa_link_0\", ax=ax, wireframe=False, convex_hull_of_mesh=False) # plot all visuals in a given reference frame\n",
    "\n",
    "ax.set_xlim((-1, 1))\n",
    "ax.set_ylim((-1, 1))\n",
    "ax.set_zlim((0.0, 1))\n",
    "plt.show()\n"
   ]
  },
  {
   "cell_type": "code",
   "execution_count": 10,
   "id": "square-disney",
   "metadata": {},
   "outputs": [
    {
     "data": {
      "application/vnd.jupyter.widget-view+json": {
       "model_id": "81128e6326eb4639af203cb9edce76da",
       "version_major": 2,
       "version_minor": 0
      },
      "text/plain": [
       "Canvas(toolbar=Toolbar(toolitems=[('Home', 'Reset original view', 'home', 'home'), ('Back', 'Back to previous …"
      ]
     },
     "metadata": {},
     "output_type": "display_data"
    }
   ],
   "source": [
    "%matplotlib widget\n",
    "import ipywidgets as widgets\n",
    "import numpy as np\n",
    "import matplotlib.pyplot as plt\n",
    "from pytransform3d.transformations import plot_transform\n",
    "from pytransform3d.plot_utils import plot_sphere, remove_frame\n",
    "\n",
    "\n",
    "random_state = np.random.RandomState(42)\n",
    "ax = plot_sphere(\n",
    "    radius=0.5, wireframe=False, alpha=0.1, color=\"k\", n_steps=20, ax_s=1)\n",
    "plot_sphere(ax=ax, radius=0.5, wireframe=True)\n",
    "plot_transform(ax=ax, A2B=np.eye(4), s=0.3, lw=3)\n",
    "remove_frame(ax)\n",
    "plt.show()"
   ]
  },
  {
   "cell_type": "code",
   "execution_count": 11,
   "id": "northern-advocate",
   "metadata": {},
   "outputs": [
    {
     "data": {
      "application/vnd.jupyter.widget-view+json": {
       "model_id": "3eb837fe50664947abd86e40e3b68009",
       "version_major": 2,
       "version_minor": 0
      },
      "text/plain": [
       "Canvas(toolbar=Toolbar(toolitems=[('Home', 'Reset original view', 'home', 'home'), ('Back', 'Back to previous …"
      ]
     },
     "metadata": {},
     "output_type": "display_data"
    }
   ],
   "source": [
    "%matplotlib widget\n",
    "import matplotlib.pyplot as plt\n",
    "from pytransform3d.transformations import plot_transform\n",
    "from pytransform3d.plot_utils import make_3d_axis\n",
    "\n",
    "ax = make_3d_axis(ax_s=1, unit=\"m\", n_ticks=6)\n",
    "plot_transform(ax=ax)\n",
    "plt.tight_layout()\n",
    "plt.show()\n"
   ]
  },
  {
   "cell_type": "code",
   "execution_count": null,
   "id": "16560af7-6bde-495b-b965-09d4d145c67c",
   "metadata": {},
   "outputs": [],
   "source": []
  }
 ],
 "metadata": {
  "kernelspec": {
   "display_name": "Python 3",
   "language": "python",
   "name": "python3"
  },
  "language_info": {
   "codemirror_mode": {
    "name": "ipython",
    "version": 3
   },
   "file_extension": ".py",
   "mimetype": "text/x-python",
   "name": "python",
   "nbconvert_exporter": "python",
   "pygments_lexer": "ipython3",
   "version": "3.8.8"
  }
 },
 "nbformat": 4,
 "nbformat_minor": 5
}
