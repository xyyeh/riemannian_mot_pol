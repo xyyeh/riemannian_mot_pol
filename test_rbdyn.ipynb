{
 "cells": [
  {
   "cell_type": "code",
   "execution_count": 34,
   "id": "recreational-audio",
   "metadata": {},
   "outputs": [],
   "source": [
    "import eigen as e\n",
    "import rbdyn as rbd\n",
    "import sva as s\n",
    "from rbdyn.parsers import *\n",
    "\n",
    "import numpy as np\n",
    "\n",
    "urdf_file = \"./assets/kuka_iiwa.urdf\"\n",
    "\n",
    "robot = from_urdf_file(urdf_file)\n",
    "robot.mbc.gravity = e.Vector3d(0, 0, 9.81)\n",
    "robot.mbc.zero(robot.mb)\n",
    "\n",
    "q = np.array([1,2,4,4,5,6,3])\n",
    "dq = -np.array([1,2,3,4,5,6,7])\n",
    "\n",
    "robot.mbc.q = [\n",
    "    [],\n",
    "    [q[0]],\n",
    "    [q[1]],\n",
    "    [q[2]],\n",
    "    [q[3]],\n",
    "    [q[4]],\n",
    "    [q[5]],\n",
    "    [q[6]],\n",
    "]\n",
    "robot.mbc.alpha = [\n",
    "    [],\n",
    "    [dq[0]],\n",
    "    [dq[1]],\n",
    "    [dq[2]],\n",
    "    [dq[3]],\n",
    "    [dq[4]],\n",
    "    [dq[5]],\n",
    "    [dq[6]],\n",
    "]\n",
    "\n",
    "sel_mat = e.MatrixXd.Zero(6, 6)\n",
    "sel_mat.coeff(0, 3, 1)\n",
    "sel_mat.coeff(1, 4, 1)\n",
    "sel_mat.coeff(2, 5, 1)\n",
    "sel_mat.coeff(3, 0, 1)\n",
    "sel_mat.coeff(4, 1, 1)\n",
    "sel_mat.coeff(5, 2, 1)\n",
    "        \n",
    "rbd.forwardKinematics(robot.mb, robot.mbc)\n",
    "rbd.forwardVelocity(robot.mb, robot.mbc)\n",
    "\n",
    "fd = rbd.ForwardDynamics(robot.mb)\n",
    "fd.computeH(robot.mb, robot.mbc)\n",
    "M = fd.H()\n",
    "Minv = M.inverse()\n",
    "fd.computeC(robot.mb, robot.mbc)\n",
    "h = fd.C()\n",
    "\n",
    "jac = rbd.Jacobian(robot.mb, robot.mb.bodies()[-1].name())\n",
    "swapped_jac = e.MatrixXd(6, robot.mb.nrDof())\n",
    "jac.fullJacobian(robot.mb, jac.jacobian(robot.mb, robot.mbc), swapped_jac)\n",
    "J = sel_mat * swapped_jac\n",
    "\n",
    "Lambda_inv = J*Minv*J.transpose()\n",
    "mat_np = np.array(Lambda_inv)\n",
    "reg = 0 * np.identity(np.size(mat_np,0))\n",
    "Lambda = Lambda_inv.inverse()\n"
   ]
  },
  {
   "cell_type": "code",
   "execution_count": 37,
   "id": "russian-harvest",
   "metadata": {},
   "outputs": [
    {
     "name": "stdout",
     "output_type": "stream",
     "text": [
      "           0    -0.841471     0.491295    -0.379859     0.272047    -0.740069     0.433066\n",
      "           0     0.540302     0.765147     0.618179    -0.636367    -0.617803    -0.740084\n",
      "           1  4.89659e-12    -0.416147     0.688159     0.721822     -0.26574     0.514518\n",
      "   -0.066815    0.0615659     0.114991     0.353655 -3.41422e-17            0            0\n",
      "    0.315163    0.0958833    -0.187136     0.184561  2.56409e-17           -0            0\n",
      "           0    -0.226506     -0.20832    0.0294225  3.54731e-17            0            0\n",
      "   4.46314    -1.4827    1.94288  0.0982833 -0.0471102  -0.150488\n",
      "   -1.4827    7.96699    -4.8593   0.142771  -0.075609  -0.228926\n",
      "   1.94288    -4.8593     8.6724 -0.0727542  0.0317979   0.106975\n",
      " 0.0982833   0.142771 -0.0727542  0.0349813 -0.0139804 -0.0487113\n",
      "-0.0471102  -0.075609  0.0317979 -0.0139804  0.0111976  0.0264355\n",
      " -0.150488  -0.228926   0.106975 -0.0487113  0.0264355  0.0800248\n"
     ]
    }
   ],
   "source": [
    "print(jac.jacobian(robot.mb, robot.mbc))\n",
    "\n",
    "print(Lambda)"
   ]
  },
  {
   "cell_type": "code",
   "execution_count": 30,
   "id": "acting-elevation",
   "metadata": {},
   "outputs": [
    {
     "data": {
      "application/vnd.jupyter.widget-view+json": {
       "model_id": "e91a174c69ce485f92e82db0e7b3e0b7",
       "version_major": 2,
       "version_minor": 0
      },
      "text/plain": [
       "Canvas(toolbar=Toolbar(toolitems=[('Home', 'Reset original view', 'home', 'home'), ('Back', 'Back to previous …"
      ]
     },
     "metadata": {},
     "output_type": "display_data"
    }
   ],
   "source": [
    "%matplotlib widget\n",
    "import ipywidgets as widgets\n",
    "import os\n",
    "import matplotlib.pyplot as plt\n",
    "from pytransform3d.urdf import UrdfTransformManager\n",
    "import math\n",
    "\n",
    "plt.rcParams['figure.dpi'] = 150\n",
    "\n",
    "BASE_DIR = \"assets/\"\n",
    "data_dir = BASE_DIR\n",
    "search_path = \".\"\n",
    "while (not os.path.exists(data_dir) and\n",
    "       os.path.dirname(search_path) != \"riemannian_mot_pol\"):\n",
    "    search_path = os.path.join(search_path, \"..\")\n",
    "    data_dir = os.path.join(search_path, BASE_DIR)\n",
    "\n",
    "tm = UrdfTransformManager()\n",
    "with open(os.path.join(data_dir, \"kuka_iiwa.urdf\"), \"r\") as f:\n",
    "    tm.load_urdf(f.read(), mesh_path=data_dir)\n",
    "\n",
    "ax = tm.plot_frames_in(\n",
    "    \"lbr_iiwa_link_0\", s=0.2, whitelist=[\"lbr_iiwa_link_0\", \"lbr_iiwa_link_1\", \"lbr_iiwa_link_7\"],\n",
    "    show_name=True) # plot all frames in a given reference frame\n",
    "ax = tm.plot_connections_in(\"lbr_iiwa_link_0\", ax=ax) # plot connections between parent and child frames\n",
    "tm.plot_visuals(\"lbr_iiwa_link_0\", ax=ax, wireframe=False, convex_hull_of_mesh=False) # plot all visuals in a given reference frame\n",
    "\n",
    "ax.set_xlim((-1, 1))\n",
    "ax.set_ylim((-1, 1))\n",
    "ax.set_zlim((0.0, 1))\n",
    "plt.show()\n"
   ]
  },
  {
   "cell_type": "code",
   "execution_count": 16,
   "id": "square-disney",
   "metadata": {},
   "outputs": [
    {
     "data": {
      "application/vnd.jupyter.widget-view+json": {
       "model_id": "9e4a00fa53f940738c6615d29109830f",
       "version_major": 2,
       "version_minor": 0
      },
      "text/plain": [
       "Canvas(toolbar=Toolbar(toolitems=[('Home', 'Reset original view', 'home', 'home'), ('Back', 'Back to previous …"
      ]
     },
     "metadata": {},
     "output_type": "display_data"
    }
   ],
   "source": [
    "%matplotlib widget\n",
    "import ipywidgets as widgets\n",
    "import numpy as np\n",
    "import matplotlib.pyplot as plt\n",
    "from pytransform3d.transformations import plot_transform\n",
    "from pytransform3d.plot_utils import plot_sphere, remove_frame\n",
    "\n",
    "\n",
    "random_state = np.random.RandomState(42)\n",
    "ax = plot_sphere(\n",
    "    radius=0.5, wireframe=False, alpha=0.1, color=\"k\", n_steps=20, ax_s=1)\n",
    "plot_sphere(ax=ax, radius=0.5, wireframe=True)\n",
    "plot_transform(ax=ax, A2B=np.eye(4), s=0.3, lw=3)\n",
    "remove_frame(ax)\n",
    "plt.show()"
   ]
  },
  {
   "cell_type": "code",
   "execution_count": 17,
   "id": "northern-advocate",
   "metadata": {},
   "outputs": [
    {
     "data": {
      "application/vnd.jupyter.widget-view+json": {
       "model_id": "76e6a9d7afc04f918b919cd1dc30dd58",
       "version_major": 2,
       "version_minor": 0
      },
      "text/plain": [
       "Canvas(toolbar=Toolbar(toolitems=[('Home', 'Reset original view', 'home', 'home'), ('Back', 'Back to previous …"
      ]
     },
     "metadata": {},
     "output_type": "display_data"
    }
   ],
   "source": [
    "%matplotlib widget\n",
    "import matplotlib.pyplot as plt\n",
    "from pytransform3d.transformations import plot_transform\n",
    "from pytransform3d.plot_utils import make_3d_axis\n",
    "\n",
    "ax = make_3d_axis(ax_s=1, unit=\"m\", n_ticks=6)\n",
    "plot_transform(ax=ax)\n",
    "plt.tight_layout()\n",
    "plt.show()\n"
   ]
  },
  {
   "cell_type": "code",
   "execution_count": null,
   "id": "16560af7-6bde-495b-b965-09d4d145c67c",
   "metadata": {},
   "outputs": [],
   "source": []
  }
 ],
 "metadata": {
  "kernelspec": {
   "display_name": "Python 3",
   "language": "python",
   "name": "python3"
  },
  "language_info": {
   "codemirror_mode": {
    "name": "ipython",
    "version": 3
   },
   "file_extension": ".py",
   "mimetype": "text/x-python",
   "name": "python",
   "nbconvert_exporter": "python",
   "pygments_lexer": "ipython3",
   "version": "3.8.8"
  }
 },
 "nbformat": 4,
 "nbformat_minor": 5
}
